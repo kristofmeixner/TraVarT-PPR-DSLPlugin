{
  "nbformat": 4,
  "nbformat_minor": 0,
  "metadata": {
    "colab": {
      "provenance": [],
      "authorship_tag": "ABX9TyPCcoVW6CYGyfWRrc96emK0",
      "include_colab_link": true
    },
    "kernelspec": {
      "name": "python3",
      "display_name": "Python 3"
    },
    "language_info": {
      "name": "python"
    }
  },
  "cells": [
    {
      "cell_type": "markdown",
      "metadata": {
        "id": "view-in-github",
        "colab_type": "text"
      },
      "source": [
        "<a href=\"https://colab.research.google.com/github/kristofmeixner/TraVarT-PPR-DSLPlugin/blob/main/AirlineSim_Stations.ipynb\" target=\"_parent\"><img src=\"https://colab.research.google.com/assets/colab-badge.svg\" alt=\"Open In Colab\"/></a>"
      ]
    },
    {
      "cell_type": "markdown",
      "source": [
        "**AirlineSim**\n"
      ],
      "metadata": {
        "id": "q_wHWP2_g_Xr"
      }
    },
    {
      "cell_type": "code",
      "source": [
        "% pip install beautifulsoup4 pandas"
      ],
      "metadata": {
        "colab": {
          "base_uri": "https://localhost:8080/"
        },
        "id": "M4YNCTSVhSos",
        "outputId": "954b291d-a670-4f35-e82d-a98c63d5885f"
      },
      "execution_count": null,
      "outputs": [
        {
          "output_type": "stream",
          "name": "stdout",
          "text": [
            "Requirement already satisfied: beautifulsoup4 in /usr/local/lib/python3.10/dist-packages (4.11.2)\n",
            "Requirement already satisfied: pandas in /usr/local/lib/python3.10/dist-packages (1.5.3)\n",
            "Requirement already satisfied: soupsieve>1.2 in /usr/local/lib/python3.10/dist-packages (from beautifulsoup4) (2.5)\n",
            "Requirement already satisfied: python-dateutil>=2.8.1 in /usr/local/lib/python3.10/dist-packages (from pandas) (2.8.2)\n",
            "Requirement already satisfied: pytz>=2020.1 in /usr/local/lib/python3.10/dist-packages (from pandas) (2023.3.post1)\n",
            "Requirement already satisfied: numpy>=1.21.0 in /usr/local/lib/python3.10/dist-packages (from pandas) (1.23.5)\n",
            "Requirement already satisfied: six>=1.5 in /usr/local/lib/python3.10/dist-packages (from python-dateutil>=2.8.1->pandas) (1.16.0)\n"
          ]
        }
      ]
    },
    {
      "cell_type": "code",
      "source": [
        "from bs4 import BeautifulSoup\n",
        "import pandas as pd\n",
        "\n",
        "# Specify the path to your HTML file\n",
        "file_path = 'Stations.html'\n",
        "\n",
        "html_snippet = \"\"\"\n",
        "<tr class=\"even\">\n",
        "    <td class=\"text-center\">\n",
        "\n",
        "    </td>\n",
        "    <td class=\"text-center\">\n",
        "\n",
        "    </td>\n",
        "    <td>\n",
        "        <a href=\"../info/airports/3332\" title=\"Brunswick, Georgia, USA\">Brunswick</a>\n",
        "        (<span>BQK</span>)\n",
        "    </td>\n",
        "    <td class=\"text-center\"><a href=\"../../action/info/country?id=182\"><img src=\"../../assets/img/flags/us.png\" title=\"USA\"></a></td>\n",
        "    <td class=\"number\">0</td>\n",
        "    <td class=\"text-center\"><img src=\"../../assets/img/demand/3.png\" title=\"demand: 2\"></td>\n",
        "    <td class=\"number\">0</td>\n",
        "    <td class=\"number\">\n",
        "        <span>0</span>\n",
        "    </td>\n",
        "    <td class=\"number\">n/a</td>\n",
        "    <td class=\"text-center\"><img src=\"../../assets/img/demand/2.png\" title=\"demand: 1\"></td>\n",
        "    <td class=\"number\">0</td>\n",
        "    <td class=\"number\">\n",
        "        <span>0</span>\n",
        "    </td>\n",
        "    <td class=\"number\">n/a</td>\n",
        "    <td class=\"text-center\">\n",
        "        <a href=\"./stations/BQK?tab=4\" title=\"Loads Statistics\">\n",
        "            <span class=\"fa fa-globe\"></span>\n",
        "        </a>\n",
        "        <a href=\"../info/timetable?office=24778\" title=\"Flight schedule\">\n",
        "            <span class=\"fa fa-th\"></span>\n",
        "        </a>\n",
        "    </td>\n",
        "    <td class=\"text-center\">\n",
        "        <a href=\"./stations/BQK\" title=\"View Station\">\n",
        "            <span class=\"fa fa-play\"></span>\n",
        "        </a>\n",
        "    </td>\n",
        "</tr><tr class=\"even\">\n",
        "    <td class=\"text-center\">\n",
        "\n",
        "    </td>\n",
        "    <td class=\"text-center\">\n",
        "        <span class=\"fa fa-moon-o\" title=\"A night flying ban applies at this airport.\"></span>\n",
        "    </td>\n",
        "    <td>\n",
        "        <a href=\"../info/airports/3718\" title=\"Pullman, Washington, USA\">Pullman</a>\n",
        "        (<span>PUW</span>)\n",
        "    </td>\n",
        "    <td class=\"text-center\"><a href=\"../../action/info/country?id=182\"><img src=\"../../assets/img/flags/us.png\" title=\"USA\"></a></td>\n",
        "    <td class=\"number\">7</td>\n",
        "    <td class=\"text-center\"><img src=\"../../assets/img/demand/4.png\" title=\"demand: 3\"></td>\n",
        "    <td class=\"number\">945</td>\n",
        "    <td class=\"number\">\n",
        "        <span>0</span>\n",
        "    </td>\n",
        "    <td class=\"number\"><span class=\"bad\">12%</span></td>\n",
        "    <td class=\"text-center\"><img src=\"../../assets/img/demand/2.png\" title=\"demand: 1\"></td>\n",
        "    <td class=\"number\">224</td>\n",
        "    <td class=\"number\">\n",
        "        <span>0</span>\n",
        "    </td>\n",
        "    <td class=\"number\"><span class=\"bad\">3%</span></td>\n",
        "    <td class=\"text-center\">\n",
        "        <a href=\"./stations/PUW?tab=4\" title=\"Loads Statistics\">\n",
        "            <span class=\"fa fa-globe\"></span>\n",
        "        </a>\n",
        "        <a href=\"../info/timetable?office=152622\" title=\"Flight schedule\">\n",
        "            <span class=\"fa fa-th\"></span>\n",
        "        </a>\n",
        "    </td>\n",
        "    <td class=\"text-center\">\n",
        "        <a href=\"./stations/PUW\" title=\"View Station\">\n",
        "            <span class=\"fa fa-play\"></span>\n",
        "        </a>\n",
        "    </td>\n",
        "</tr>\n",
        "\"\"\"\n",
        "\n",
        "with open(file_path, 'r', encoding='utf-8') as file:\n",
        "    html_snippet = file.read()\n",
        "\n",
        "# Parse the HTML using BeautifulSoup\n",
        "soup = BeautifulSoup(html_snippet, 'html.parser')\n",
        "\n",
        "# Find all table rows with class 'even'\n",
        "rows = soup.find_all('tr')\n",
        "\n",
        "data_list = []\n",
        "\n",
        "for row in rows:\n",
        "    # Extract data from each row\n",
        "    tds = row.find_all('td')\n",
        "    href = tds[2].a.get('href')\n",
        "    name = tds[2].a.text\n",
        "    s_tags = row.find_all('span')\n",
        "    tlc = tds[2].span.text\n",
        "\n",
        "    # Extract the first occurrence of Demand\n",
        "    i_tags = row.find_all('img')\n",
        "    dem = i_tags[1]['title'][-1]\n",
        "\n",
        "    data = {\n",
        "        'HRef': href,\n",
        "        'Name': name,\n",
        "        'TLC': tlc,\n",
        "        'Demand': dem\n",
        "    }\n",
        "\n",
        "    data_list.append(data)\n",
        "\n",
        "# Convert the data to a pandas DataFrame\n",
        "df = pd.DataFrame(data_list)\n",
        "\n",
        "# Save the DataFrame to a CSV file\n",
        "df.to_csv('output.csv', index=False)\n",
        "\n",
        "print(\"Data extracted and saved to 'output.csv'.\")"
      ],
      "metadata": {
        "colab": {
          "base_uri": "https://localhost:8080/"
        },
        "id": "f2SgSBSthwdf",
        "outputId": "eb14cd59-3257-45f5-aa65-5510e2c3cf3e"
      },
      "execution_count": null,
      "outputs": [
        {
          "output_type": "stream",
          "name": "stdout",
          "text": [
            "Data extracted and saved to 'output.csv'.\n"
          ]
        }
      ]
    }
  ]
}